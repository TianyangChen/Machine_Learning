{
 "cells": [
  {
   "cell_type": "code",
   "execution_count": 34,
   "metadata": {
    "collapsed": true
   },
   "outputs": [],
   "source": [
    "#Homework 5\n",
    "#Tianyang Chen\n",
    "#An Experiment on Real World Data\n",
    "%matplotlib inline\n",
    "import numpy as np\n",
    "import matplotlib.pyplot as plt\n",
    "import copy\n",
    "\n",
    "from sklearn.naive_bayes import GaussianNB\n",
    "from sklearn.model_selection import train_test_split\n",
    "from sklearn.model_selection import KFold"
   ]
  },
  {
   "cell_type": "code",
   "execution_count": 35,
   "metadata": {
    "collapsed": false
   },
   "outputs": [
    {
     "name": "stdout",
     "output_type": "stream",
     "text": [
      "self-training is completed\n",
      "self-training is completed\n",
      "self-training is completed\n",
      "self-training is completed\n",
      "self-training is completed\n",
      "Cross Validation error: 0.255868347339\n",
      "Cross Validation error(without SSL): 0.247535014006\n"
     ]
    }
   ],
   "source": [
    "# import real world data\n",
    "data = np.loadtxt('blood_train.csv', delimiter=',')\n",
    "row,col=data.shape\n",
    "data_x = data[:,:col-1]\n",
    "data_y = data[:,col-1]\n",
    "\n",
    "# split data into 5 folds\n",
    "kf = KFold(n_splits=5, random_state=50, shuffle=True)\n",
    "\n",
    "# set the probability confidence threshold\n",
    "threshold=0.9\n",
    "\n",
    "# start the 5-folf cross validation\n",
    "error_CV=[]\n",
    "error_CV_without_SSL=[]\n",
    "for train_index, test_index in kf.split(data_x):\n",
    "    \n",
    "    #split data into training set and testing set\n",
    "    x_train_CV, x_test_CV = data_x[train_index], data_x[test_index]\n",
    "    y_train_CV, y_test_CV = data_y[train_index], data_y[test_index]\n",
    "    \n",
    "    #for the trainging set, split into labelled set and unlabelled set \n",
    "    x_train, x_test, y_train, y_test = train_test_split(x_train_CV, y_train_CV, test_size=0.85, random_state=42)\n",
    "\n",
    "    #implement Naive Bayes calssifier\n",
    "    clf = GaussianNB()\n",
    "    clf.fit(x_train, y_train)\n",
    "    clf2 = GaussianNB()\n",
    "    clf2.fit(x_train_CV, y_train_CV)\n",
    "    error_without_SSL = 1 - clf2.score(x_test_CV, y_test_CV)\n",
    "    error_CV_without_SSL.append(error_without_SSL)\n",
    "    \n",
    "    x_test_copy = copy.deepcopy(x_test)\n",
    "    y_test_copy = copy.deepcopy(y_test)\n",
    "\n",
    "    # the self-training rounds\n",
    "    while len(x_test_copy)>0:  \n",
    "        clf.fit(x_train, y_train)\n",
    "        index=[]\n",
    "        cnt=0\n",
    "        for i in range(len(x_test_copy)):\n",
    "            if max(max(clf.predict_proba([x_test_copy[i]]))) > threshold:\n",
    "                cnt+=1\n",
    "                # add the data with high probability confidence to training data set\n",
    "                x_train = np.append(x_train,[x_test_copy[i]], axis=0)\n",
    "                y_train = np.append(y_train,clf.predict([x_test_copy[i]]), axis=0)\n",
    "                index.append(i)\n",
    "        x_test_copy = np.delete(x_test_copy, index, axis=0)\n",
    "        y_test_copy = np.delete(y_test_copy, index, axis=0)\n",
    "        clf.fit(x_train, y_train)\n",
    "        # in the self-traing round, if no data could be added to training data set, stop training\n",
    "        if cnt==0 or len(x_test_copy)==0:\n",
    "            \n",
    "            #compute error on cross validation testing set \n",
    "            error_4 = 1 - clf.score(x_test_CV, y_test_CV)\n",
    "            error_CV.append(error_4)\n",
    "            print \"self-training is completed\"\n",
    "            break\n",
    "\n",
    "# compute the 5-fold cross validation error\n",
    "print \"Cross Validation error: \"+str(np.mean(error_CV))\n",
    "print \"Cross Validation error(without SSL): \"+str(np.mean(error_CV_without_SSL))\n",
    "\n"
   ]
  }
 ],
 "metadata": {
  "anaconda-cloud": {},
  "kernelspec": {
   "display_name": "Python [conda root]",
   "language": "python",
   "name": "conda-root-py"
  },
  "language_info": {
   "codemirror_mode": {
    "name": "ipython",
    "version": 2
   },
   "file_extension": ".py",
   "mimetype": "text/x-python",
   "name": "python",
   "nbconvert_exporter": "python",
   "pygments_lexer": "ipython2",
   "version": "2.7.12"
  }
 },
 "nbformat": 4,
 "nbformat_minor": 1
}
