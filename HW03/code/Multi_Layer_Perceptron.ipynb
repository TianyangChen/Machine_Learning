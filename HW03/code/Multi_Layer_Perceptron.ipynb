{
 "cells": [
  {
   "cell_type": "code",
   "execution_count": 229,
   "metadata": {
    "collapsed": false
   },
   "outputs": [
    {
     "name": "stdout",
     "output_type": "stream",
     "text": [
      "Extracting MNIST_data/train-images-idx3-ubyte.gz\n",
      "Extracting MNIST_data/train-labels-idx1-ubyte.gz\n",
      "Extracting MNIST_data/t10k-images-idx3-ubyte.gz\n",
      "Extracting MNIST_data/t10k-labels-idx1-ubyte.gz\n"
     ]
    }
   ],
   "source": [
    "#Homework 3\n",
    "#Tianyang Chen\n",
    "#Multi-Layer Perceptron\n",
    "from tensorflow.examples.tutorials.mnist import input_data\n",
    "mnist = input_data.read_data_sets(\"MNIST_data/\", one_hot=True)\n",
    "\n",
    "import tensorflow as tf"
   ]
  },
  {
   "cell_type": "code",
   "execution_count": 230,
   "metadata": {
    "collapsed": true
   },
   "outputs": [],
   "source": [
    "# Parameters\n",
    "learning_rate = 0.001\n",
    "batch_size = 100\n",
    "beta = 0.01\n",
    "\n",
    "# Network Parameters\n",
    "n_hidden_1 = 250 # number of hidden nodes\n",
    "n_input = 784 # numer of input nodes\n",
    "n_classes = 10 # number of output nodes\n",
    "\n",
    "# tf Graph input\n",
    "x = tf.placeholder(tf.float32, [None, n_input])\n",
    "y = tf.placeholder(tf.float32, [None, n_classes])"
   ]
  },
  {
   "cell_type": "code",
   "execution_count": 231,
   "metadata": {
    "collapsed": false
   },
   "outputs": [],
   "source": [
    "# weight & bias\n",
    "weights = {\n",
    "    'h1': tf.Variable(tf.random_normal([n_input, n_hidden_1])),   \n",
    "    'out': tf.Variable(tf.random_normal([n_hidden_1, n_classes]))\n",
    "}\n",
    "biases = {\n",
    "    'b1': tf.Variable(tf.random_normal([n_hidden_1])),\n",
    "    'out': tf.Variable(tf.random_normal([n_classes]))\n",
    "}\n",
    "\n",
    "#Set relation of layers\n",
    "layer_1 = tf.add(tf.matmul(x, weights['h1']), biases['b1'])\n",
    "layer_1 = tf.nn.relu(layer_1)\n",
    "out_layer = tf.matmul(layer_1, weights['out']) + biases['out']\n",
    "\n",
    "# Define loss and optimizer\n",
    "loss = tf.reduce_mean(tf.nn.softmax_cross_entropy_with_logits(logits=out_layer, labels=y))\n",
    "#Regularization (comment the following two lines to cancel L2-regularization)\n",
    "#regularization = tf.nn.l2_loss(weights['h1']) + tf.nn.l2_loss(weights['out'])\n",
    "#loss_L2 = tf.reduce_mean(loss + beta * regularization)\n",
    "\n",
    "#The first line does not implement L2-regularization, vise versa\n",
    "train_step = tf.train.AdamOptimizer(learning_rate).minimize(loss)\n",
    "#train_step = tf.train.AdamOptimizer(learning_rate).minimize(loss_L2)\n",
    "\n",
    "# Initializing the variables\n",
    "init = tf.global_variables_initializer()"
   ]
  },
  {
   "cell_type": "code",
   "execution_count": 232,
   "metadata": {
    "collapsed": false
   },
   "outputs": [
    {
     "name": "stdout",
     "output_type": "stream",
     "text": [
      "Step: 0 (Total: 20000)\n",
      "Step: 2000 (Total: 20000)\n",
      "Step: 4000 (Total: 20000)\n",
      "Step: 6000 (Total: 20000)\n",
      "Step: 8000 (Total: 20000)\n",
      "Step: 10000 (Total: 20000)\n",
      "Step: 12000 (Total: 20000)\n",
      "Step: 14000 (Total: 20000)\n",
      "Step: 16000 (Total: 20000)\n",
      "Step: 18000 (Total: 20000)\n",
      "Optimization Finished!\n",
      "Testing Error: 0.041900\n",
      "Training Error: 0.003145\n"
     ]
    }
   ],
   "source": [
    "\n",
    "# Launch the graph\n",
    "with tf.Session() as sess:\n",
    "    sess.run(init)\n",
    "    \n",
    "    # Training cycle\n",
    "    for i in range(20000):\n",
    "        batch_x, batch_y = mnist.train.next_batch(batch_size)\n",
    "        #don't foget to change the loss target here (loss / loss_L2)\n",
    "        sess.run([train_step, loss], feed_dict={x: batch_x, y: batch_y})\n",
    "        if i % 2000 == 0:\n",
    "            print \"Step: %d (Total: 20000)\"% (i)\n",
    "    print \"Optimization Finished!\"\n",
    "\n",
    "    #Calculate Error\n",
    "    correct_prediction = tf.equal(tf.argmax(out_layer, 1),  tf.argmax(y, 1))\n",
    "    accuracy = tf.reduce_mean(tf.cast(correct_prediction, tf.float32))\n",
    "\n",
    "    print \"Testing Error: %f\" % (1-(sess.run(accuracy, feed_dict={x: mnist.test.images, y: mnist.test.labels})))\n",
    "    print \"Training Error: %f\" % (1-(sess.run(accuracy, feed_dict={x: mnist.train.images, y: mnist.train.labels})))"
   ]
  }
 ],
 "metadata": {
  "anaconda-cloud": {},
  "kernelspec": {
   "display_name": "Python [conda env:tensorflow]",
   "language": "python",
   "name": "conda-env-tensorflow-py"
  },
  "language_info": {
   "codemirror_mode": {
    "name": "ipython",
    "version": 2
   },
   "file_extension": ".py",
   "mimetype": "text/x-python",
   "name": "python",
   "nbconvert_exporter": "python",
   "pygments_lexer": "ipython2",
   "version": "2.7.13"
  }
 },
 "nbformat": 4,
 "nbformat_minor": 1
}
